{
 "cells": [
  {
   "cell_type": "markdown",
   "id": "32733d47",
   "metadata": {},
   "source": [
    "# Convolutional Neural Network"
   ]
  },
  {
   "cell_type": "markdown",
   "id": "c65ab5aa",
   "metadata": {},
   "source": [
    "### Importing the libraries"
   ]
  },
  {
   "cell_type": "code",
   "execution_count": 28,
   "id": "2cc0f421",
   "metadata": {},
   "outputs": [],
   "source": [
    "import tensorflow as tf\n",
    "from keras.preprocessing.image import ImageDataGenerator"
   ]
  },
  {
   "cell_type": "code",
   "execution_count": 8,
   "id": "5abb5d03",
   "metadata": {},
   "outputs": [
    {
     "data": {
      "text/plain": [
       "'2.11.0'"
      ]
     },
     "execution_count": 8,
     "metadata": {},
     "output_type": "execute_result"
    }
   ],
   "source": [
    "tf.__version__"
   ]
  },
  {
   "cell_type": "markdown",
   "id": "d42bf80f",
   "metadata": {},
   "source": [
    "### Preprocessing the Traning set"
   ]
  },
  {
   "cell_type": "code",
   "execution_count": 9,
   "id": "123484fe",
   "metadata": {},
   "outputs": [
    {
     "name": "stdout",
     "output_type": "stream",
     "text": [
      "Found 8000 images belonging to 2 classes.\n"
     ]
    }
   ],
   "source": [
    "train_datagen = ImageDataGenerator(\n",
    "                rescale=1./255,\n",
    "                shear_range=0.2,\n",
    "                zoom_range=0.2,\n",
    "                horizontal_flip = True)\n",
    "training_set = train_datagen.flow_from_directory(\n",
    "                'dataset/training_set',\n",
    "                target_size=(64, 64),\n",
    "                batch_size=32,\n",
    "                class_mode='binary')"
   ]
  },
  {
   "cell_type": "markdown",
   "id": "d488d7f8",
   "metadata": {},
   "source": [
    "### Preprocessing the Test set"
   ]
  },
  {
   "cell_type": "code",
   "execution_count": 10,
   "id": "bb8148cd",
   "metadata": {},
   "outputs": [
    {
     "name": "stdout",
     "output_type": "stream",
     "text": [
      "Found 2000 images belonging to 2 classes.\n"
     ]
    }
   ],
   "source": [
    "test_datagen = ImageDataGenerator(rescale=1./255)\n",
    "test_set = test_datagen.flow_from_directory(\n",
    "                'dataset/test_set',\n",
    "                target_size=(64, 64),\n",
    "                batch_size=32,\n",
    "                class_mode='binary')"
   ]
  },
  {
   "cell_type": "markdown",
   "id": "c5f837c4",
   "metadata": {},
   "source": [
    "### Building the CNN"
   ]
  },
  {
   "cell_type": "markdown",
   "id": "90b1503f",
   "metadata": {},
   "source": [
    "#### Initialising the CNN"
   ]
  },
  {
   "cell_type": "code",
   "execution_count": 11,
   "id": "c0e4c4c5",
   "metadata": {},
   "outputs": [],
   "source": [
    "cnn = tf.keras.models.Sequential()"
   ]
  },
  {
   "cell_type": "markdown",
   "id": "a53bda4e",
   "metadata": {},
   "source": [
    "#### Step 1 - Convolution"
   ]
  },
  {
   "cell_type": "code",
   "execution_count": 12,
   "id": "1ad5b5bd",
   "metadata": {},
   "outputs": [],
   "source": [
    "cnn.add(tf.keras.layers.Conv2D(\n",
    "                        filters=32,\n",
    "                        kernel_size=3,\n",
    "                        activation='relu',\n",
    "                        input_shape=[64,64,3]))"
   ]
  },
  {
   "cell_type": "markdown",
   "id": "a753d9ca",
   "metadata": {},
   "source": [
    "#### Step 2 - Pooling"
   ]
  },
  {
   "cell_type": "code",
   "execution_count": 13,
   "id": "a0b263ef",
   "metadata": {},
   "outputs": [],
   "source": [
    "cnn.add(tf.keras.layers.MaxPool2D(pool_size=2, strides=2))"
   ]
  },
  {
   "cell_type": "markdown",
   "id": "3cef744c",
   "metadata": {},
   "source": [
    "### Adding a second convolution layer"
   ]
  },
  {
   "cell_type": "code",
   "execution_count": 14,
   "id": "1093086a",
   "metadata": {},
   "outputs": [],
   "source": [
    "cnn.add(tf.keras.layers.Conv2D(filters=32, kernel_size=3, activation ='relu'))\n",
    "cnn.add(tf.keras.layers.MaxPooling2D(pool_size=2, strides=2))"
   ]
  },
  {
   "cell_type": "markdown",
   "id": "25501533",
   "metadata": {},
   "source": [
    "#### step 3 - Flattening"
   ]
  },
  {
   "cell_type": "code",
   "execution_count": 15,
   "id": "8b7b9ec7",
   "metadata": {},
   "outputs": [],
   "source": [
    "cnn.add(tf.keras.layers.Flatten())"
   ]
  },
  {
   "cell_type": "markdown",
   "id": "1b3c156f",
   "metadata": {},
   "source": [
    "#### Step 4 - Full Connnection"
   ]
  },
  {
   "cell_type": "code",
   "execution_count": 16,
   "id": "a234f857",
   "metadata": {},
   "outputs": [],
   "source": [
    "cnn.add(tf.keras.layers.Dense(units=128, activation='relu'))"
   ]
  },
  {
   "cell_type": "markdown",
   "id": "4f4c7486",
   "metadata": {},
   "source": [
    "#### Step 5 Output Layer"
   ]
  },
  {
   "cell_type": "code",
   "execution_count": 17,
   "id": "7c1fdf07",
   "metadata": {},
   "outputs": [],
   "source": [
    "cnn.add(tf.keras.layers.Dense(units=1, activation='sigmoid'))"
   ]
  },
  {
   "cell_type": "markdown",
   "id": "44469210",
   "metadata": {},
   "source": [
    "#### Compiling the CNN"
   ]
  },
  {
   "cell_type": "code",
   "execution_count": 20,
   "id": "18446789",
   "metadata": {},
   "outputs": [],
   "source": [
    "cnn.compile(optimizer = 'adam', loss = 'binary_crossentropy', metrics = ['accuracy'])"
   ]
  },
  {
   "cell_type": "markdown",
   "id": "25d53e0e",
   "metadata": {},
   "source": [
    "#### Traning the CNN ont the Training set and evaluting it on the Test set"
   ]
  },
  {
   "cell_type": "code",
   "execution_count": 21,
   "id": "f21a9602",
   "metadata": {},
   "outputs": [
    {
     "name": "stdout",
     "output_type": "stream",
     "text": [
      "Epoch 1/25\n",
      "250/250 [==============================] - 34s 135ms/step - loss: 0.6577 - accuracy: 0.5972 - val_loss: 0.6021 - val_accuracy: 0.6765\n",
      "Epoch 2/25\n",
      "250/250 [==============================] - 31s 123ms/step - loss: 0.5937 - accuracy: 0.6850 - val_loss: 0.5868 - val_accuracy: 0.6975\n",
      "Epoch 3/25\n",
      "250/250 [==============================] - 30s 118ms/step - loss: 0.5522 - accuracy: 0.7193 - val_loss: 0.5398 - val_accuracy: 0.7265\n",
      "Epoch 4/25\n",
      "250/250 [==============================] - 24s 97ms/step - loss: 0.5299 - accuracy: 0.7372 - val_loss: 0.5053 - val_accuracy: 0.7575\n",
      "Epoch 5/25\n",
      "250/250 [==============================] - 24s 97ms/step - loss: 0.5090 - accuracy: 0.7456 - val_loss: 0.4833 - val_accuracy: 0.7755\n",
      "Epoch 6/25\n",
      "250/250 [==============================] - 24s 97ms/step - loss: 0.4890 - accuracy: 0.7586 - val_loss: 0.4749 - val_accuracy: 0.7830\n",
      "Epoch 7/25\n",
      "250/250 [==============================] - 24s 98ms/step - loss: 0.4704 - accuracy: 0.7750 - val_loss: 0.4726 - val_accuracy: 0.7815\n",
      "Epoch 8/25\n",
      "250/250 [==============================] - 24s 97ms/step - loss: 0.4531 - accuracy: 0.7855 - val_loss: 0.4910 - val_accuracy: 0.7765\n",
      "Epoch 9/25\n",
      "250/250 [==============================] - 24s 98ms/step - loss: 0.4464 - accuracy: 0.7876 - val_loss: 0.4601 - val_accuracy: 0.7945\n",
      "Epoch 10/25\n",
      "250/250 [==============================] - 25s 98ms/step - loss: 0.4345 - accuracy: 0.7954 - val_loss: 0.4610 - val_accuracy: 0.7950\n",
      "Epoch 11/25\n",
      "250/250 [==============================] - 24s 97ms/step - loss: 0.4235 - accuracy: 0.8046 - val_loss: 0.5362 - val_accuracy: 0.7545\n",
      "Epoch 12/25\n",
      "250/250 [==============================] - 24s 97ms/step - loss: 0.4164 - accuracy: 0.8041 - val_loss: 0.4549 - val_accuracy: 0.7940\n",
      "Epoch 13/25\n",
      "250/250 [==============================] - 24s 97ms/step - loss: 0.3996 - accuracy: 0.8170 - val_loss: 0.4892 - val_accuracy: 0.7825\n",
      "Epoch 14/25\n",
      "250/250 [==============================] - 24s 98ms/step - loss: 0.3957 - accuracy: 0.8158 - val_loss: 0.4461 - val_accuracy: 0.8005\n",
      "Epoch 15/25\n",
      "250/250 [==============================] - 24s 98ms/step - loss: 0.3750 - accuracy: 0.8292 - val_loss: 0.4731 - val_accuracy: 0.7960\n",
      "Epoch 16/25\n",
      "250/250 [==============================] - 25s 99ms/step - loss: 0.3768 - accuracy: 0.8267 - val_loss: 0.4637 - val_accuracy: 0.8050\n",
      "Epoch 17/25\n",
      "250/250 [==============================] - 24s 96ms/step - loss: 0.3606 - accuracy: 0.8411 - val_loss: 0.4620 - val_accuracy: 0.8060\n",
      "Epoch 18/25\n",
      "250/250 [==============================] - 24s 96ms/step - loss: 0.3488 - accuracy: 0.8480 - val_loss: 0.4544 - val_accuracy: 0.8045\n",
      "Epoch 19/25\n",
      "250/250 [==============================] - 24s 96ms/step - loss: 0.3322 - accuracy: 0.8533 - val_loss: 0.4603 - val_accuracy: 0.8105\n",
      "Epoch 20/25\n",
      "250/250 [==============================] - 24s 96ms/step - loss: 0.3255 - accuracy: 0.8540 - val_loss: 0.4724 - val_accuracy: 0.8070\n",
      "Epoch 21/25\n",
      "250/250 [==============================] - 24s 95ms/step - loss: 0.3149 - accuracy: 0.8609 - val_loss: 0.5638 - val_accuracy: 0.7755\n",
      "Epoch 22/25\n",
      "250/250 [==============================] - 24s 95ms/step - loss: 0.3178 - accuracy: 0.8641 - val_loss: 0.4714 - val_accuracy: 0.7980\n",
      "Epoch 23/25\n",
      "250/250 [==============================] - 24s 96ms/step - loss: 0.2930 - accuracy: 0.8730 - val_loss: 0.5122 - val_accuracy: 0.8000\n",
      "Epoch 24/25\n",
      "250/250 [==============================] - 24s 96ms/step - loss: 0.2919 - accuracy: 0.8734 - val_loss: 0.5886 - val_accuracy: 0.7725\n",
      "Epoch 25/25\n",
      "250/250 [==============================] - 24s 95ms/step - loss: 0.2760 - accuracy: 0.8775 - val_loss: 0.5078 - val_accuracy: 0.8015\n"
     ]
    },
    {
     "data": {
      "text/plain": [
       "<keras.callbacks.History at 0x7fcc7f3e7af0>"
      ]
     },
     "execution_count": 21,
     "metadata": {},
     "output_type": "execute_result"
    }
   ],
   "source": [
    "cnn.fit(x = training_set, validation_data = test_set,epochs = 25)"
   ]
  },
  {
   "cell_type": "markdown",
   "id": "df6522c7",
   "metadata": {},
   "source": [
    "### Making a single prediction"
   ]
  },
  {
   "cell_type": "code",
   "execution_count": 36,
   "id": "022f8a2e",
   "metadata": {},
   "outputs": [
    {
     "name": "stdout",
     "output_type": "stream",
     "text": [
      "1/1 [==============================] - 0s 13ms/step\n",
      "cat\n"
     ]
    }
   ],
   "source": [
    "import numpy as np\n",
    "import keras.utils as image\n",
    "test_image = image.load_img('dataset/single_prediction/cat_or_dog_2.jpg', target_size = (64, 64))\n",
    "test_image = image.img_to_array(test_image)\n",
    "test_image = np.expand_dims(test_image, axis = 0)\n",
    "result = cnn.predict(test_image)\n",
    "training_set.class_indices\n",
    "if result[0][0] == 1:\n",
    "  prediction = 'dog'\n",
    "else:\n",
    "  prediction = 'cat'\n",
    "print(prediction)\n"
   ]
  },
  {
   "cell_type": "code",
   "execution_count": null,
   "id": "5acabf0c",
   "metadata": {},
   "outputs": [],
   "source": []
  }
 ],
 "metadata": {
  "kernelspec": {
   "display_name": "Python 3 (ipykernel)",
   "language": "python",
   "name": "python3"
  },
  "language_info": {
   "codemirror_mode": {
    "name": "ipython",
    "version": 3
   },
   "file_extension": ".py",
   "mimetype": "text/x-python",
   "name": "python",
   "nbconvert_exporter": "python",
   "pygments_lexer": "ipython3",
   "version": "3.10.6"
  }
 },
 "nbformat": 4,
 "nbformat_minor": 5
}
