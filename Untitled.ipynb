{
 "cells": [
  {
   "cell_type": "markdown",
   "id": "c4886187",
   "metadata": {},
   "source": [
    "# Convolutional Neural Network"
   ]
  },
  {
   "cell_type": "markdown",
   "id": "decc1414",
   "metadata": {},
   "source": [
    "### Importing the libraries"
   ]
  },
  {
   "cell_type": "code",
   "execution_count": 47,
   "id": "fb045d38",
   "metadata": {},
   "outputs": [],
   "source": [
    "import tensorflow as tf\n",
    "from keras.preprocessing.image import ImageDataGenerator"
   ]
  },
  {
   "cell_type": "markdown",
   "id": "f3749e4a",
   "metadata": {},
   "source": [
    "### Preprocessing the Traning set"
   ]
  },
  {
   "cell_type": "code",
   "execution_count": 48,
   "id": "5ecc7fee",
   "metadata": {},
   "outputs": [
    {
     "name": "stdout",
     "output_type": "stream",
     "text": [
      "Found 8000 images belonging to 2 classes.\n"
     ]
    }
   ],
   "source": [
    "train_datagen = ImageDataGenerator(\n",
    "                rescale=1./255,\n",
    "                shear_range=0.2,\n",
    "                zoom_range=0.2,\n",
    "                horizontal_flip = True)\n",
    "training_set = train_datagen.flow_from_directory(\n",
    "                'dataset/training_set',\n",
    "                target_size=(64, 64),\n",
    "                batch_size=32,\n",
    "                class_mode='binary')"
   ]
  },
  {
   "cell_type": "markdown",
   "id": "15f488db",
   "metadata": {},
   "source": [
    "### Preprocessing the Test set"
   ]
  },
  {
   "cell_type": "code",
   "execution_count": 49,
   "id": "badad368",
   "metadata": {},
   "outputs": [
    {
     "name": "stdout",
     "output_type": "stream",
     "text": [
      "Found 2000 images belonging to 2 classes.\n"
     ]
    }
   ],
   "source": [
    "test_datagen = ImageDataGenerator(rescale=1./255)\n",
    "test_set = test_datagen.flow_from_directory(\n",
    "                'dataset/test_set',\n",
    "                target_size=(64, 64),\n",
    "                batch_size=32,\n",
    "                class_mode='binary')"
   ]
  },
  {
   "cell_type": "markdown",
   "id": "b3edd453",
   "metadata": {},
   "source": [
    "### Building the CNN"
   ]
  },
  {
   "cell_type": "markdown",
   "id": "e18d41e0",
   "metadata": {},
   "source": [
    "#### Initialising the CNN"
   ]
  },
  {
   "cell_type": "code",
   "execution_count": 50,
   "id": "926e4978",
   "metadata": {},
   "outputs": [],
   "source": [
    "cnn = tf.keras.models.Sequential()"
   ]
  },
  {
   "cell_type": "markdown",
   "id": "42475b3a",
   "metadata": {},
   "source": [
    "#### Step 1 - Convolution"
   ]
  },
  {
   "cell_type": "code",
   "execution_count": 51,
   "id": "7a9c02f8",
   "metadata": {},
   "outputs": [],
   "source": [
    "cnn.add(tf.keras.layers.Conv2D(\n",
    "                        filters=32,\n",
    "                        kernel_size=3,\n",
    "                        activation='relu',\n",
    "                        input_shape=[64,64,3]))"
   ]
  },
  {
   "cell_type": "markdown",
   "id": "c62045af",
   "metadata": {},
   "source": [
    "#### Step 2 - Pooling"
   ]
  },
  {
   "cell_type": "code",
   "execution_count": 52,
   "id": "32ad693e",
   "metadata": {},
   "outputs": [],
   "source": [
    "cnn.add(tf.keras.layers.MaxPool2D(pool_size=2, strides=2))"
   ]
  },
  {
   "cell_type": "markdown",
   "id": "635949b7",
   "metadata": {},
   "source": [
    "### Adding a second convolution layer"
   ]
  },
  {
   "cell_type": "code",
   "execution_count": null,
   "id": "c7e4a858",
   "metadata": {},
   "outputs": [],
   "source": [
    "cnn.add(tf.keras.layers.Conv2D(filters=32, kernel_size=3, activation ='relu'))\n",
    "cnn.add(tf.keras.layers.MaxPooling2D(pool_size=2, strides=2))"
   ]
  },
  {
   "cell_type": "markdown",
   "id": "f1822652",
   "metadata": {},
   "source": [
    "#### step 3 - Flattening"
   ]
  },
  {
   "cell_type": "code",
   "execution_count": null,
   "id": "afea816b",
   "metadata": {},
   "outputs": [],
   "source": [
    "cnn.add(tf.keras.layers.Flatten())"
   ]
  },
  {
   "cell_type": "markdown",
   "id": "230f702c",
   "metadata": {},
   "source": [
    "#### Step 4 - Full Connnection"
   ]
  },
  {
   "cell_type": "code",
   "execution_count": 53,
   "id": "0ee9e871",
   "metadata": {},
   "outputs": [],
   "source": [
    "cnn.add(tf.keras.layers.Dense(units=128, activation='relu'))"
   ]
  },
  {
   "cell_type": "markdown",
   "id": "74f3a480",
   "metadata": {},
   "source": [
    "#### Step 5 Output Layer"
   ]
  },
  {
   "cell_type": "code",
   "execution_count": null,
   "id": "d100f7a8",
   "metadata": {},
   "outputs": [],
   "source": [
    "cnn."
   ]
  },
  {
   "cell_type": "code",
   "execution_count": null,
   "id": "ce818757",
   "metadata": {},
   "outputs": [],
   "source": []
  },
  {
   "cell_type": "code",
   "execution_count": null,
   "id": "ee99bc6f",
   "metadata": {},
   "outputs": [],
   "source": []
  }
 ],
 "metadata": {
  "kernelspec": {
   "display_name": "Python 3 (ipykernel)",
   "language": "python",
   "name": "python3"
  },
  "language_info": {
   "codemirror_mode": {
    "name": "ipython",
    "version": 3
   },
   "file_extension": ".py",
   "mimetype": "text/x-python",
   "name": "python",
   "nbconvert_exporter": "python",
   "pygments_lexer": "ipython3",
   "version": "3.10.6"
  }
 },
 "nbformat": 4,
 "nbformat_minor": 5
}
